{
 "cells": [
  {
   "cell_type": "markdown",
   "metadata": {},
   "source": [
    "## PREDICTING A PULSAR STAR\n",
    "\n",
    "MODULE 5 FINAL PROJECT\n",
    "\n",
    "* Student name: Ru Keïn\n",
    "* Student pace: full time\n",
    "* Scheduled project review date/time: Feb 11, 2020 @ 4 PM EST\n",
    "* Instructor name: James Irving, PhD\n",
    "* Blog post URL:"
   ]
  },
  {
   "cell_type": "markdown",
   "metadata": {},
   "source": [
    "### OVERVIEW\n",
    "\n",
    "*From Dr. Robert Lyon on Kaggle:*\n",
    "\n",
    "HTRU2 is a data set which describes **a sample of pulsar candidates collected during the High Time Resolution Universe Survey.**\n",
    "\n",
    "Pulsars are a rare type of Neutron star that produce radio emission detectable here on Earth. They are of considerable scientific interest as probes of space-time, the inter-stellar medium, and states of matter .\n",
    "\n",
    "As pulsars rotate, their emission beam sweeps across the sky, and when this crosses our line of sight, produces a detectable pattern of broadband radio emission. As pulsars rotate rapidly, this pattern repeats periodically. Thus pulsar search involves looking for periodic radio signals with large radio telescopes.\n",
    "\n",
    "Each pulsar produces a slightly different emission pattern, which varies slightly with each rotation . Thus a potential signal detection known as a 'candidate', is averaged over many rotations of the pulsar, as determined by the length of an observation. In the absence of additional info, each candidate could potentially describe a real pulsar. However in practice almost all detections are caused by radio frequency interference (RFI) and noise, making legitimate signals hard to find.\n",
    "\n",
    "Machine learning tools are now being used to automatically label pulsar candidates to facilitate rapid analysis. Classification systems in particular are being widely adopted, which treat the candidate data sets as binary classification problems. Here the legitimate pulsar examples are a minority positive class, and spurious examples the majority negative class.\n",
    "\n",
    "The data set shared here contains 16,259 spurious examples caused by RFI/noise, and 1,639 real pulsar examples. These examples have all been checked by human annotators.\n",
    "\n",
    "Each row lists the variables first, and the class label is the final entry. The class labels used are 0 (negative) and 1 (positive)."
   ]
  },
  {
   "cell_type": "markdown",
   "metadata": {},
   "source": [
    "### OUTLINE\n",
    "\n",
    "    * IMPORT PACKAGES + LIBRARIES\n",
    "    \n",
    "    * OBTAIN DATA\n",
    "    \n",
    "    * PRE-PROCESSING\n",
    "    \n",
    "    * EDA + VISUALIZATIONS\n",
    "    \n",
    "    * MODELING:\n",
    "        * MODEL 1: DECISION TREES\n",
    "        * MODEL 2: XBOOST\n",
    "        * MODEL 3: GRIDSEARCH CV\n",
    "        \n",
    "    * INTERPRET RESULTS\n",
    "    \n",
    "    * CONCLUSION + SUMMARY\n",
    "    \n",
    "    * FUTURE WORK\n"
   ]
  },
  {
   "cell_type": "code",
   "execution_count": 2,
   "metadata": {
    "ExecuteTime": {
     "end_time": "2020-02-12T19:22:53.988935Z",
     "start_time": "2020-02-12T19:22:53.973080Z"
    }
   },
   "outputs": [],
   "source": [
    "# Import code packages and libraries\n",
    "import pandas as pd\n",
    "import numpy as np\n",
    "import matplotlib as mpl\n",
    "%matplotlib inline\n",
    "import matplotlib.pyplot as plt\n",
    "\n",
    "from sklearn.model_selection import train_test_split\n",
    "import seaborn as sns\n",
    "sns.set_style('whitegrid')\n",
    "plt.style.use('seaborn-bright')\n",
    "\n",
    "\n",
    "font_dict={'family':'monospace',\n",
    "          'size':16}\n",
    "mpl.rc('font',**font_dict)\n"
   ]
  },
  {
   "cell_type": "code",
   "execution_count": 3,
   "metadata": {
    "ExecuteTime": {
     "end_time": "2020-02-12T19:23:04.710496Z",
     "start_time": "2020-02-12T19:23:04.703012Z"
    }
   },
   "outputs": [],
   "source": [
    "# OBTAIN data"
   ]
  },
  {
   "cell_type": "code",
   "execution_count": 6,
   "metadata": {
    "ExecuteTime": {
     "end_time": "2020-02-12T19:23:23.140314Z",
     "start_time": "2020-02-12T19:23:23.136515Z"
    }
   },
   "outputs": [],
   "source": [
    "# PRE-PROCESSING"
   ]
  },
  {
   "cell_type": "code",
   "execution_count": 7,
   "metadata": {
    "ExecuteTime": {
     "end_time": "2020-02-12T19:23:23.304517Z",
     "start_time": "2020-02-12T19:23:23.300682Z"
    }
   },
   "outputs": [],
   "source": [
    "# EDA + VISUALIZATIONS"
   ]
  },
  {
   "cell_type": "code",
   "execution_count": 8,
   "metadata": {
    "ExecuteTime": {
     "end_time": "2020-02-12T19:23:45.681478Z",
     "start_time": "2020-02-12T19:23:45.672484Z"
    }
   },
   "outputs": [],
   "source": [
    "# MODELING"
   ]
  },
  {
   "cell_type": "code",
   "execution_count": 9,
   "metadata": {
    "ExecuteTime": {
     "end_time": "2020-02-12T19:23:51.034303Z",
     "start_time": "2020-02-12T19:23:51.028174Z"
    }
   },
   "outputs": [],
   "source": [
    "# MODEL 1: DECISION TREES"
   ]
  },
  {
   "cell_type": "code",
   "execution_count": 10,
   "metadata": {
    "ExecuteTime": {
     "end_time": "2020-02-12T19:23:56.534441Z",
     "start_time": "2020-02-12T19:23:56.526625Z"
    }
   },
   "outputs": [],
   "source": [
    "# MODEL 2: XBOOST"
   ]
  },
  {
   "cell_type": "code",
   "execution_count": 11,
   "metadata": {
    "ExecuteTime": {
     "end_time": "2020-02-12T19:24:03.906544Z",
     "start_time": "2020-02-12T19:24:03.901878Z"
    }
   },
   "outputs": [],
   "source": [
    "# MODEL 3: GRIDSEARCH CV"
   ]
  },
  {
   "cell_type": "code",
   "execution_count": 12,
   "metadata": {
    "ExecuteTime": {
     "end_time": "2020-02-12T19:24:09.909572Z",
     "start_time": "2020-02-12T19:24:09.903872Z"
    }
   },
   "outputs": [],
   "source": [
    "# INTERPRET RESULTS"
   ]
  },
  {
   "cell_type": "code",
   "execution_count": 13,
   "metadata": {
    "ExecuteTime": {
     "end_time": "2020-02-12T19:24:15.794606Z",
     "start_time": "2020-02-12T19:24:15.790111Z"
    }
   },
   "outputs": [],
   "source": [
    "# CONCLUSION + SUMMARY"
   ]
  },
  {
   "cell_type": "code",
   "execution_count": null,
   "metadata": {},
   "outputs": [],
   "source": [
    "# FUTURE WORK"
   ]
  }
 ],
 "metadata": {
  "kernelspec": {
   "display_name": "Python [conda env:learn-env] *",
   "language": "python",
   "name": "conda-env-learn-env-py"
  },
  "language_info": {
   "codemirror_mode": {
    "name": "ipython",
    "version": 3
   },
   "file_extension": ".py",
   "mimetype": "text/x-python",
   "name": "python",
   "nbconvert_exporter": "python",
   "pygments_lexer": "ipython3",
   "version": "3.6.9"
  },
  "toc": {
   "base_numbering": 1,
   "nav_menu": {},
   "number_sections": true,
   "sideBar": true,
   "skip_h1_title": false,
   "title_cell": "Table of Contents",
   "title_sidebar": "Contents",
   "toc_cell": false,
   "toc_position": {},
   "toc_section_display": true,
   "toc_window_display": true
  }
 },
 "nbformat": 4,
 "nbformat_minor": 2
}
